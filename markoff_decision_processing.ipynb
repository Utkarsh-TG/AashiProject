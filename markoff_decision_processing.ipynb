{
  "nbformat": 4,
  "nbformat_minor": 0,
  "metadata": {
    "colab": {
      "name": "markoff_decision_processing.ipynb",
      "provenance": [],
      "collapsed_sections": [],
      "authorship_tag": "ABX9TyOLoHS17hOYG10mq9vOEEZ/",
      "include_colab_link": true
    },
    "kernelspec": {
      "name": "python3",
      "display_name": "Python 3"
    },
    "language_info": {
      "name": "python"
    }
  },
  "cells": [
    {
      "cell_type": "markdown",
      "metadata": {
        "id": "view-in-github",
        "colab_type": "text"
      },
      "source": [
        "<a href=\"https://colab.research.google.com/github/Utkarsh-TG/AashiProject/blob/main/markoff_decision_processing.ipynb\" target=\"_parent\"><img src=\"https://colab.research.google.com/assets/colab-badge.svg\" alt=\"Open In Colab\"/></a>"
      ]
    },
    {
      "cell_type": "code",
      "execution_count": 131,
      "metadata": {
        "id": "p2NUL83rCril"
      },
      "outputs": [],
      "source": [
        "import time\n",
        "import numpy as np\n",
        "import matplotlib.pyplot as plt\n",
        "\n",
        "N = 1000\n",
        "_lambda = 0.1\n",
        "epsilon = 0.01"
      ]
    },
    {
      "cell_type": "code",
      "source": [
        "states = np.linspace(0, N, N+1, dtype=int)\n",
        "actions = []\n",
        "for n in states:\n",
        "  actions.append(np.linspace(0, n, n+1, dtype=int))"
      ],
      "metadata": {
        "id": "ys99dka8Ct19"
      },
      "execution_count": 132,
      "outputs": []
    },
    {
      "cell_type": "code",
      "source": [
        "def P(s_next, s, a):\n",
        "  if s - a == s_next:\n",
        "    return 1\n",
        "  else:\n",
        "    return 0"
      ],
      "metadata": {
        "id": "48vUTyIiC_HW"
      },
      "execution_count": 133,
      "outputs": []
    },
    {
      "cell_type": "code",
      "source": [
        "def R(s, a):\n",
        "  return((0.9**t)*np.sqrt(a) + 0.5*0.05*(s-a) + 0.5*0.12*(s-a))"
      ],
      "metadata": {
        "id": "opLvyAi5DLXc"
      },
      "execution_count": 134,
      "outputs": []
    },
    {
      "cell_type": "code",
      "source": [
        "def check_break(prev_best_val, next_best_val):\n",
        "  for i in range(0, len(prev_best_val)):\n",
        "    p_b_v, n_b_v = prev_best_val[i], next_best_val[i]\n",
        "    if (n_b_v - p_b_v) < (epsilon*(1-_lambda)/2*_lambda):\n",
        "      if i == len(prev_best_val)-1:\n",
        "        return True\n",
        "    else:\n",
        "      return False"
      ],
      "metadata": {
        "id": "yNjjqcUpGcN2"
      },
      "execution_count": 135,
      "outputs": []
    },
    {
      "cell_type": "code",
      "source": [
        "def value_iteration(S, A):\n",
        "    V = {s: 0 for s in S}\n",
        "    optimal_policy = {s:0 for s in S}\n",
        "    \n",
        "    while True:\n",
        "        oldV = V.copy()\n",
        "        \n",
        "        for s in S:\n",
        "\n",
        "            Q = {}\n",
        "\n",
        "            for a in A[s]:\n",
        "                Q[a] = R(s, a) + _lambda*sum(P(s_next,s,a) * oldV[s_next] for s_next in S)\n",
        "\n",
        "            V[s] = max(Q.values())\n",
        "            optimal_policy[s] = max(Q, key=Q.get)\n",
        "       \n",
        "        if check_break(list(oldV.values()), list(V.values())):\n",
        "            break\n",
        "            \n",
        "    return V, optimal_policy"
      ],
      "metadata": {
        "id": "GoP5sUYhDNo7"
      },
      "execution_count": 136,
      "outputs": []
    },
    {
      "cell_type": "code",
      "source": [
        "t = int(input(\"Enter time period: \"))"
      ],
      "metadata": {
        "id": "7QU1TQNiF1AE",
        "colab": {
          "base_uri": "https://localhost:8080/"
        },
        "outputId": "e35eb1e7-aab9-423f-98b3-cb0932a4de2c"
      },
      "execution_count": 137,
      "outputs": [
        {
          "name": "stdout",
          "output_type": "stream",
          "text": [
            "Enter time period: 0\n"
          ]
        }
      ]
    },
    {
      "cell_type": "code",
      "source": [
        "start_time = time.process_time_ns()\n",
        "v, optimal_policy = value_iteration(states, actions)\n",
        "end_time = time.process_time_ns()\n",
        "print(\"Value Iteration Execution: \" + str(end_time - start_time) + \" nanoseconds\")\n",
        "\n",
        "plt.plot(list(optimal_policy.keys()), list(optimal_policy.values()))\n",
        "plt.xlabel(\"States\", fontsize='13')\n",
        "plt.ylabel(\"Policy\", fontsize='13')\n",
        "plt.show()"
      ],
      "metadata": {
        "id": "kLub8kxpJ9lF",
        "colab": {
          "base_uri": "https://localhost:8080/",
          "height": 299
        },
        "outputId": "c2f5b2ed-cd7b-4733-b9fe-a19c31155534"
      },
      "execution_count": 138,
      "outputs": [
        {
          "output_type": "stream",
          "name": "stdout",
          "text": [
            "Value Iteration Execution: 2791871066522 nanoseconds\n"
          ]
        },
        {
          "output_type": "display_data",
          "data": {
            "image/png": "[encoded data removed]",
            "text/plain": [
              "<Figure size 432x288 with 1 Axes>"
            ]
          },
          "metadata": {
            "needs_background": "light"
          }
        }
      ]
    },
    {
      "cell_type": "code",
      "source": [
        "def policy_evaluation(policy, S):\n",
        "  V = {s: 0 for s in S}\n",
        "  \n",
        "  oldV = V.copy()\n",
        "  \n",
        "  for s in S:\n",
        "    a = policy[s]\n",
        "    V[s] = R(s,a) + _lambda*sum(P(s_next,s,a) * oldV[s_next] \n",
        "                      for s_next in S)\n",
        "  \n",
        "  return V"
      ],
      "metadata": {
        "id": "kPftGGNIpfek"
      },
      "execution_count": 139,
      "outputs": []
    },
    {
      "cell_type": "code",
      "source": [
        "def policy_improvement(V, S, A):\n",
        "  policy = {s: A[s][0] for s in S}\n",
        "\n",
        "  for s in S:\n",
        "    Q = {}\n",
        "\n",
        "    for a in A[s]:\n",
        "      Q[a] = R(s,a) + _lambda*sum(P(s_next,s,a) * V[s_next]\n",
        "                          for s_next in S)\n",
        "      \n",
        "    policy[s] = max(Q, key=Q.get)\n",
        "  \n",
        "  return policy"
      ],
      "metadata": {
        "id": "IvVHUFYpbnyR"
      },
      "execution_count": 140,
      "outputs": []
    },
    {
      "cell_type": "code",
      "source": [
        "def policy_iteration(S, A):\n",
        "  policy = {s: A[s][0] for s in S}\n",
        "  while True:\n",
        "    old_policy = policy.copy()\n",
        "\n",
        "    V = policy_evaluation(policy, S)\n",
        "    \n",
        "    policy = policy_improvement(V, S, A)\n",
        "    \n",
        "    if all(old_policy[s] == policy[s] for s in S):\n",
        "      break\n",
        "\n",
        "  return policy"
      ],
      "metadata": {
        "id": "ABHiidqCboVt"
      },
      "execution_count": 141,
      "outputs": []
    },
    {
      "cell_type": "code",
      "source": [
        "start_time = time.process_time_ns()\n",
        "policy = policy_iteration(states, actions)\n",
        "end_time = time.process_time_ns()\n",
        "print(\"Value Iteration Execution: \" + str(end_time - start_time) + \" nanoseconds\")\n",
        "\n",
        "plt.plot(list(policy.keys()), list(policy.values()))\n",
        "plt.xlabel(\"States\", fontsize='13')\n",
        "plt.ylabel(\"Policy\", fontsize='13')\n",
        "plt.show()"
      ],
      "metadata": {
        "colab": {
          "base_uri": "https://localhost:8080/",
          "height": 299
        },
        "id": "K_QXnmgabp2d",
        "outputId": "fbea25e6-75b7-47c1-e4d3-b081c673030a"
      },
      "execution_count": 120,
      "outputs": [
        {
          "output_type": "stream",
          "name": "stdout",
          "text": [
            "Value Iteration Execution: 11682023 nanoseconds\n"
          ]
        },
        {
          "output_type": "display_data",
          "data": {
            "image/png": "[encoded data removed]",
            "text/plain": [
              "<Figure size 432x288 with 1 Axes>"
            ]
          },
          "metadata": {
            "needs_background": "light"
          }
        }
      ]
    },
    {
      "cell_type": "code",
      "source": [
        "def updated_policy_evaluation(policy, S):\n",
        "  V = {s: 0 for s in S}\n",
        "  i = 0\n",
        "  while i <= 10:\n",
        "    i += 1 \n",
        "    oldV = V.copy()\n",
        "\n",
        "    for s in S:\n",
        "      a = policy[s]\n",
        "      V[s] = R(s,a) + _lambda*sum(P(s_next,s,a) * oldV[s_next] \n",
        "                          for s_next in S)\n",
        "      \n",
        "    if check_break(list(oldV.values()), list(V.values())):\n",
        "      return V"
      ],
      "metadata": {
        "id": "SYfRtQM0byD1"
      },
      "execution_count": 142,
      "outputs": []
    },
    {
      "cell_type": "code",
      "source": [
        "def updated_policy_iteration():\n",
        "  policy = {s: A[s][0] for s in S}\n",
        "  while True:\n",
        "    old_policy = policy.copy()\n",
        "\n",
        "    V = updated_policy_evaluation(policy, S)\n",
        "    \n",
        "    policy = policy_improvement(V, S, A)\n",
        "    \n",
        "    if all(old_policy[s] == policy[s] for s in S):\n",
        "      break\n",
        "\n",
        "  return policy"
      ],
      "metadata": {
        "id": "PeB7xrE2cOJc"
      },
      "execution_count": 143,
      "outputs": []
    },
    {
      "cell_type": "code",
      "source": [
        "start_time = time.process_time_ns()\n",
        "policy = policy_iteration(states, actions)\n",
        "end_time = time.process_time_ns()\n",
        "print(\"Value Iteration Execution: \" + str(end_time - start_time) + \" nanoseconds\")\n",
        "\n",
        "plt.plot(list(policy.keys()), list(policy.values()))\n",
        "plt.xlabel(\"States\", fontsize='13')\n",
        "plt.ylabel(\"Policy\", fontsize='13')\n",
        "plt.show()"
      ],
      "metadata": {
        "id": "3Dpf3ViZcLbe"
      },
      "execution_count": null,
      "outputs": []
    },
    {
      "cell_type": "code",
      "source": [
        "Value Iteration - 47 minutes"
      ],
      "metadata": {
        "id": "Jy5tNAPdjVfH"
      },
      "execution_count": null,
      "outputs": []
    }
  ]
}