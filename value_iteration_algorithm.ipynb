{
  "nbformat": 4,
  "nbformat_minor": 0,
  "metadata": {
    "colab": {
      "name": "value_iteration_algorithm.ipynb",
      "provenance": [],
      "collapsed_sections": [],
      "authorship_tag": "ABX9TyOHcb1j9E+Q05gbCQhjDTL+",
      "include_colab_link": true
    },
    "kernelspec": {
      "name": "python3",
      "display_name": "Python 3"
    },
    "language_info": {
      "name": "python"
    }
  },
  "cells": [
    {
      "cell_type": "markdown",
      "metadata": {
        "id": "view-in-github",
        "colab_type": "text"
      },
      "source": [
        "<a href=\"https://colab.research.google.com/github/Utkarsh-TG/AashiProject/blob/main/value_iteration_algorithm.ipynb\" target=\"_parent\"><img src=\"https://colab.research.google.com/assets/colab-badge.svg\" alt=\"Open In Colab\"/></a>"
      ]
    },
    {
      "cell_type": "code",
      "metadata": {
        "id": "-i060_T8ubfE"
      },
      "source": [
        "import numpy as np\n",
        "\n",
        "N = 10\n",
        "_lambda = 0.1\n",
        "epsilon = 0.01"
      ],
      "execution_count": null,
      "outputs": []
    },
    {
      "cell_type": "code",
      "metadata": {
        "id": "xJZH4ChHukhY"
      },
      "source": [
        "st = {}\n",
        "\n",
        "states = np.linspace(0, N, N+1, dtype=int)\n",
        "\n",
        "actions = []\n",
        "\n",
        "for n in states:\n",
        "  actions.append(np.linspace(0, n, n+1, dtype=int))\n",
        "\n",
        "  st[n] = {\n",
        "        'actions': actions[n],\n",
        "        'best_value': 0,\n",
        "        'optimal_action': 0,\n",
        "        }\n",
        "    "
      ],
      "execution_count": null,
      "outputs": []
    },
    {
      "cell_type": "code",
      "metadata": {
        "id": "PCt4DiTGus5-"
      },
      "source": [
        "def r(s,a):\n",
        "  return(np.sqrt(a) + 0.5*1.05*(s-a) + 0.5*1.12*(s-a))"
      ],
      "execution_count": null,
      "outputs": []
    },
    {
      "cell_type": "code",
      "metadata": {
        "id": "24S_z0aGBTY6"
      },
      "source": [
        "def value(t, p_a, s, a, p_v):\n",
        "  b_v = 0  # best value\n",
        "  for action in a:\n",
        "    n_v = (((0.9)**t)*np.sqrt(p_a)) + r(s, action) + _lambda*p_v*(s - action)  # next value\n",
        "    if action == 0:\n",
        "      b_v = n_v\n",
        "      optimal_action = action\n",
        "    elif n_v > b_v:\n",
        "      b_v = n_v\n",
        "      optimal_action = action\n",
        "\n",
        "  return (b_v, optimal_action)"
      ],
      "execution_count": null,
      "outputs": []
    },
    {
      "cell_type": "code",
      "metadata": {
        "id": "CxDPZZV9IMws"
      },
      "source": [
        "def check_break(prev_best_val, next_best_val):\n",
        "  for i in range(0, len(prev_best_val)):\n",
        "    p_b_v, n_b_v = prev_best_val[i], next_best_val[i]\n",
        "\n",
        "    if (n_b_v - p_b_v) < (epsilon*(1-_lambda)/2*_lambda):\n",
        "      if i == len(prev_best_val)-1:\n",
        "        return True\n",
        "    else:\n",
        "      return False\n"
      ],
      "execution_count": null,
      "outputs": []
    },
    {
      "cell_type": "code",
      "metadata": {
        "colab": {
          "base_uri": "https://localhost:8080/"
        },
        "id": "8qAjU_xICD9Q",
        "outputId": "b9a09f87-4bce-4ff5-95f1-ea42008692c6"
      },
      "source": [
        "def update_val():\n",
        "  t = 0\n",
        "  prev_val = 0\n",
        "  p_n_v = []\n",
        "  b_n_v = [] \n",
        "  optimal_actions = []\n",
        "  p_a = 0  # prev optimal action\n",
        "  while True:\n",
        "    for state, val in st.items():\n",
        "      if t != 0:\n",
        "        prev_val = val['best_value']\n",
        "        p_a = val['optimal_action']\n",
        "      actions = val['actions']\n",
        "\n",
        "      best_value, optimal_action = value(t, p_a, state, actions, prev_val)\n",
        "\n",
        "      optimal_actions.append(optimal_action)\n",
        "      p_n_v.append(val['best_value'])\n",
        "      b_n_v.append(best_value)\n",
        "\n",
        "    if check_break(p_n_v, b_n_v):\n",
        "      break\n",
        "    else:\n",
        "      for key, val in st.items():\n",
        "        val['best_value'] = b_n_v[key]\n",
        "        val['optimal_action'] = optimal_actions[key]\n",
        "    t += 1\n",
        "\n",
        "update_val()\n",
        "print(st)"
      ],
      "execution_count": null,
      "outputs": [
        {
          "output_type": "stream",
          "name": "stdout",
          "text": [
            "{0: {'actions': array([0]), 'best_value': 1.0, 'optimal_action': 0}, 1: {'actions': array([0, 1]), 'best_value': 2.085, 'optimal_action': 0}, 2: {'actions': array([0, 1, 2]), 'best_value': 3.17, 'optimal_action': 0}, 3: {'actions': array([0, 1, 2, 3]), 'best_value': 4.255000000000001, 'optimal_action': 0}, 4: {'actions': array([0, 1, 2, 3, 4]), 'best_value': 5.34, 'optimal_action': 0}, 5: {'actions': array([0, 1, 2, 3, 4, 5]), 'best_value': 6.425000000000001, 'optimal_action': 0}, 6: {'actions': array([0, 1, 2, 3, 4, 5, 6]), 'best_value': 7.510000000000001, 'optimal_action': 0}, 7: {'actions': array([0, 1, 2, 3, 4, 5, 6, 7]), 'best_value': 8.595, 'optimal_action': 0}, 8: {'actions': array([0, 1, 2, 3, 4, 5, 6, 7, 8]), 'best_value': 9.68, 'optimal_action': 0}, 9: {'actions': array([0, 1, 2, 3, 4, 5, 6, 7, 8, 9]), 'best_value': 10.765, 'optimal_action': 0}, 10: {'actions': array([ 0,  1,  2,  3,  4,  5,  6,  7,  8,  9, 10]), 'best_value': 11.850000000000001, 'optimal_action': 0}}\n"
          ]
        }
      ]
    },
    {
      "cell_type": "code",
      "metadata": {
        "id": "787f3syIU5Ui"
      },
      "source": [
        ""
      ],
      "execution_count": null,
      "outputs": []
    }
  ]
}