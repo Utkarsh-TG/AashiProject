{
  "cells": [
    {
      "cell_type": "markdown",
      "metadata": {
        "id": "view-in-github",
        "colab_type": "text"
      },
      "source": [
        "<a href=\"https://colab.research.google.com/github/Utkarsh-TG/AashiProject/blob/main/Payoff_vector_set.ipynb\" target=\"_parent\"><img src=\"https://colab.research.google.com/assets/colab-badge.svg\" alt=\"Open In Colab\"/></a>"
      ]
    },
    {
      "cell_type": "code",
      "source": [
        "import matplotlib.pyplot as plt"
      ],
      "metadata": {
        "id": "zW6iCSRkn2vR"
      },
      "execution_count": null,
      "outputs": []
    },
    {
      "cell_type": "code",
      "execution_count": null,
      "metadata": {
        "colab": {
          "base_uri": "https://localhost:8080/"
        },
        "id": "ng5iy-7ansE6",
        "outputId": "c0ed83f8-c55d-4ff7-8560-98724ca81af8"
      },
      "outputs": [
        {
          "output_type": "stream",
          "name": "stdout",
          "text": [
            "{'2 * sigma_s': 4, '10 * sigma_s': 50}\n"
          ]
        }
      ],
      "source": [
        "sigma_i = 1\n",
        "sigma_c = 6\n",
        "sigma_s = 2\n",
        "\n",
        "delta1 =  2 * sigma_s\n",
        "\n",
        "delta2 = {\n",
        "    '2 * sigma_s': 2 * sigma_s,\n",
        "    '10 * sigma_s': (10 * sigma_s) + (5 * sigma_c),\n",
        "    #...\n",
        "}\n",
        "\n",
        "print(delta2)"
      ]
    },
    {
      "cell_type": "code",
      "execution_count": null,
      "metadata": {
        "colab": {
          "base_uri": "https://localhost:8080/",
          "height": 320
        },
        "id": "T2Y5OcNtnsE_",
        "outputId": "edbb3215-b77c-46a8-c86d-9865c9d4188e"
      },
      "outputs": [
        {
          "output_type": "stream",
          "name": "stdout",
          "text": [
            "0\n",
            "1\n",
            "[[[-2, -2], [-5, -1], [-6, -2], [-10, -6], [-2, -2]], [[-2, -3], [-5, -2], [-6, -2], [-10, -7], [-2, -3]]]\n"
          ]
        },
        {
          "output_type": "display_data",
          "data": {
            "text/plain": [
              "<Figure size 432x288 with 1 Axes>"
            ],
            "image/png": "[encoded data removed]"
          },
          "metadata": {
            "needs_background": "light"
          }
        }
      ],
      "source": [
        "coords = []\n",
        "for value,index in enumerate(delta2):\n",
        "  print(value)\n",
        "  coord = [\n",
        "          [-sigma_s, -(value + sigma_s)],\n",
        "          [-(delta1 + sigma_i), -(value + sigma_i)],\n",
        "          [-(delta1 + sigma_s) , -sigma_s],\n",
        "          [-(delta1 + sigma_c) , -(value + sigma_c)]\n",
        "          ]\n",
        "\n",
        "  coord.append(coord[0]) #repeat the first point to create a 'closed loop'\n",
        "\n",
        "  coords.append(coord)\n",
        "\n",
        "print(coords)\n",
        "\n",
        "plt.figure()\n",
        "\n",
        "i = 0\n",
        "for coord in coords:\n",
        "  xs = []\n",
        "  ys = []\n",
        "  for point in coord:\n",
        "    xs.append(point[0])\n",
        "    ys.append(point[1])\n",
        "  plt.plot(xs,ys, label=list(delta2)[i])\n",
        "  i+=1\n",
        "\n",
        "plt.legend()\n",
        "plt.show()"
      ]
    },
    {
      "cell_type": "code",
      "execution_count": null,
      "metadata": {
        "id": "MDDZrrShnsFB"
      },
      "outputs": [],
      "source": [
        ""
      ]
    }
  ],
  "metadata": {
    "kernelspec": {
      "display_name": "Python 3",
      "language": "python",
      "name": "python3"
    },
    "language_info": {
      "codemirror_mode": {
        "name": "ipython",
        "version": 3
      },
      "file_extension": ".py",
      "mimetype": "text/x-python",
      "name": "python",
      "nbconvert_exporter": "python",
      "pygments_lexer": "ipython3",
      "version": "3.8.3"
    },
    "colab": {
      "name": "Payoff vector set.ipynb",
      "provenance": [],
      "collapsed_sections": [],
      "include_colab_link": true
    }
  },
  "nbformat": 4,
  "nbformat_minor": 0
}