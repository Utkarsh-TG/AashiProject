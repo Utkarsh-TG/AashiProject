{
  "nbformat": 4,
  "nbformat_minor": 0,
  "metadata": {
    "colab": {
      "provenance": [],
      "authorship_tag": "ABX9TyOGbdfB+sgGFrSYzVdBebdX",
      "include_colab_link": true
    },
    "kernelspec": {
      "name": "python3",
      "display_name": "Python 3"
    },
    "language_info": {
      "name": "python"
    }
  },
  "cells": [
    {
      "cell_type": "markdown",
      "metadata": {
        "id": "view-in-github",
        "colab_type": "text"
      },
      "source": [
        "<a href=\"https://colab.research.google.com/github/Utkarsh-TG/AashiProject/blob/main/N_player_age_game_RTS_CTS_setting_optimization_problem.ipynb\" target=\"_parent\"><img src=\"https://colab.research.google.com/assets/colab-badge.svg\" alt=\"Open In Colab\"/></a>"
      ]
    },
    {
      "cell_type": "code",
      "execution_count": 40,
      "metadata": {
        "id": "iIuMjZRPqJQm"
      },
      "outputs": [],
      "source": [
        "from scipy.optimize import linprog\n",
        "from matplotlib import pyplot as plt\n",
        "import numpy as np"
      ]
    },
    {
      "cell_type": "code",
      "source": [
        "# Meta data for analysis\n",
        "sig_dig= 4\n",
        "\n",
        "delta = [1, 2, 3]\n",
        "sigma_s = 1.01\n",
        "sigma_c = 0.1*sigma_s\n",
        "sigma_i = 0.001\n",
        "\n",
        "def setParam():\n",
        "  global delta, sigma_s, sigma_c, sigma_i\n",
        "  delta = [1,2]\n",
        "  sigma_s = 1.01\n",
        "  sigma_c = 0.1*sigma_s\n",
        "  sigma_i = 0.001"
      ],
      "metadata": {
        "id": "FF00w66uqQKj"
      },
      "execution_count": 36,
      "outputs": []
    },
    {
      "cell_type": "code",
      "source": [
        "def optimum(delta, sigma_c, sigma_i, sigma_s):\n",
        "  N = len(delta)\n",
        "  # ages contain intial age for each node at the begining of our stage game\n",
        "  ages = [round(d * sigma_s, sig_dig) for d in delta]\n",
        "  total_delta = sum(ages)\n",
        "\n",
        "  # minmax_i = - delta_i - sigma_c\n",
        "  minmax = [round(sigma_c + age, sig_dig) for age in ages]\n",
        "\n",
        "  # pc_coeff and pi_coeff\n",
        "  pc_coeff = {\n",
        "      \"obj\": round(total_delta + N*sigma_c, sig_dig),\n",
        "      \"inequality\": [round(age + sigma_c, sig_dig) for age in ages],\n",
        "      \"equality\": 1} \n",
        "  pi_coeff = {\n",
        "      \"obj\": round(total_delta + N*sigma_i, sig_dig),\n",
        "      \"inequality\": [round(age + sigma_i, sig_dig) for age in ages],\n",
        "      \"equality\": 1} \n",
        "\n",
        "  #objective array\n",
        "  obj = [round((N*sigma_s) + total_delta - age, sig_dig) for age in ages]\n",
        "  #obj.extend([pc_coeff[\"obj\"], pi_coeff[\"obj\"]])\n",
        "  obj.extend([pi_coeff[\"obj\"]])\n",
        "  obj = np.array(obj)\n",
        "  obj = obj.reshape((N+1,))\n",
        "\n",
        "  #lhs_inequality matrix\n",
        "  lhs_ineq = np.zeros((N, N+2), dtype=float) + sigma_s\n",
        "  lhs_ineq = []\n",
        "\n",
        "  for i, age in enumerate(ages):\n",
        "      row = [(age + sigma_s)] * (N+1)\n",
        "      # reverting element to sigma_s along diagonal\n",
        "      row[i] = sigma_s\n",
        "    # row[-2] = pc_coeff[\"inequality\"][i]\n",
        "      row[-1] = pi_coeff[\"inequality\"][i] \n",
        "      lhs_ineq.append(row)\n",
        "  lhs_ineq = np.array(lhs_ineq)\n",
        "\n",
        "  #Rhs_inequality matrix\n",
        "  #rhs_ineq = minmax\n",
        "  rhs_ineq = np.array(minmax).reshape(N,)\n",
        "\n",
        "  lhs_eq = np.array([1] * (N+1)).reshape((1, N+1))\n",
        "  rhs_eq = np.array([1]).reshape((1, ))\n",
        "              \n",
        "  bounds = [(0, 1)] * (N+1) # Bounds of p1, p2...p_n, p_c, p_i\n",
        "\n",
        "  opt = linprog(c=obj, A_ub=lhs_ineq, b_ub=rhs_ineq,\n",
        "              A_eq=lhs_eq, b_eq=rhs_eq, bounds=bounds)\n",
        "\n",
        "  return(opt['x'])\n"
      ],
      "metadata": {
        "id": "JoXDwl4Kqcfq"
      },
      "execution_count": 37,
      "outputs": []
    },
    {
      "cell_type": "code",
      "source": [
        "print(optimum(delta, sigma_c, sigma_i, sigma_s))\n",
        "setParam()\n",
        "print(optimum(delta, sigma_c, sigma_i, sigma_s))"
      ],
      "metadata": {
        "colab": {
          "base_uri": "https://localhost:8080/"
        },
        "id": "nzrJSHiNrF66",
        "outputId": "950c2de6-b89f-41dd-833e-09aa61a16954"
      },
      "execution_count": 38,
      "outputs": [
        {
          "output_type": "stream",
          "name": "stdout",
          "text": [
            "[1.07917225e-11 2.09332751e-11 9.91080275e-02 9.00891973e-01]\n",
            "[1.96212987e-12 9.91080241e-02 9.00891976e-01]\n"
          ]
        }
      ]
    },
    {
      "cell_type": "code",
      "source": [
        "_sigma_c = []\n",
        "p1 = []\n",
        "p2 = []\n",
        "pi = []\n",
        "\n",
        "for i in range(1,11):\n",
        "  _sigma_c.append(i/10*sigma_s)\n",
        "  prob = optimum(delta, _sigma_c[i-1], sigma_i, sigma_s)\n",
        "  p1.append(prob[0])\n",
        "  p2.append(prob[1])\n",
        "  pi.append(prob[2])\n",
        "\n",
        "print(p1)"
      ],
      "metadata": {
        "colab": {
          "base_uri": "https://localhost:8080/"
        },
        "id": "4fThtrBerNrB",
        "outputId": "c4220f5a-44e6-4209-e871-6fbdf830477e"
      },
      "execution_count": 57,
      "outputs": [
        {
          "output_type": "stream",
          "name": "stdout",
          "text": [
            "[0.5500000000047072, 0.600000000006847, 0.650000000007542, 0.7000000000063226, 0.7500000000031877, 0.7999999999984555, 0.8499999999919348, 0.8999999999822355, 0.9500000000001345, 0.999999999999985]\n"
          ]
        }
      ]
    },
    {
      "cell_type": "code",
      "source": [
        "#plot\n",
        "\n",
        "# Function to plot\n",
        "plt.plot(_sigma_c, p1)\n",
        "plt.plot(_sigma_c, p2)\n",
        "plt.plot(_sigma_c, pi)\n",
        "  \n",
        "# function to show the plot\n",
        "plt.show()"
      ],
      "metadata": {
        "colab": {
          "base_uri": "https://localhost:8080/",
          "height": 265
        },
        "id": "3sQH2I99wEzf",
        "outputId": "48b7c8fe-65ba-4798-f9da-e7035a607a54"
      },
      "execution_count": 58,
      "outputs": [
        {
          "output_type": "display_data",
          "data": {
            "text/plain": [
              "<Figure size 432x288 with 1 Axes>"
            ],
            "image/png": "[encoded data removed]"
          },
          "metadata": {
            "needs_background": "light"
          }
        }
      ]
    },
    {
      "cell_type": "code",
      "source": [
        "_delta = []\n",
        "p1 = []\n",
        "p2 = []\n",
        "pi = []\n",
        "\n",
        "for i in range(1,11):\n",
        "  Delta = delta\n",
        "  Delta[0] = i*sigma_s\n",
        "  _delta.append(Delta[0])\n",
        "  prob = optimum(Delta, sigma_c, sigma_i, sigma_s)\n",
        "  p1.append(prob[0])\n",
        "  p2.append(prob[1])\n",
        "  pi.append(prob[2])"
      ],
      "metadata": {
        "id": "lOVduoFvybfp"
      },
      "execution_count": 53,
      "outputs": []
    },
    {
      "cell_type": "code",
      "source": [
        "#plot\n",
        "\n",
        "# Function to plot\n",
        "plt.plot(_delta, p1)\n",
        "plt.plot(_delta, p2)\n",
        "plt.plot(_delta, pi)\n",
        "\n",
        "  \n",
        "# function to show the plot\n",
        "plt.show()"
      ],
      "metadata": {
        "colab": {
          "base_uri": "https://localhost:8080/",
          "height": 265
        },
        "id": "9JbBdKbE0fYE",
        "outputId": "894f37d7-333d-4f4e-e40f-68853f053038"
      },
      "execution_count": 55,
      "outputs": [
        {
          "output_type": "display_data",
          "data": {
            "text/plain": [
              "<Figure size 432x288 with 1 Axes>"
            ],
            "image/png": "[encoded data removed]"
          },
          "metadata": {
            "needs_background": "light"
          }
        }
      ]
    }
  ]
}